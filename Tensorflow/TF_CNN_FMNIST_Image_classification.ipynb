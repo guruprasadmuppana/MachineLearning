{
  "nbformat": 4,
  "nbformat_minor": 0,
  "metadata": {
    "colab": {
      "name": "TF CNN-FMNIST Image classification.ipynb",
      "provenance": [],
      "collapsed_sections": []
    },
    "kernelspec": {
      "name": "python3",
      "display_name": "Python 3"
    }
  },
  "cells": [
    {
      "cell_type": "markdown",
      "metadata": {
        "id": "VKgZbFFPbRub",
        "colab_type": "text"
      },
      "source": [
        "**This is Fashion MNIST image classification using TF CNN**"
      ]
    },
    {
      "cell_type": "code",
      "metadata": {
        "id": "iwq8Oi9zbjdo",
        "colab_type": "code",
        "outputId": "4777fcff-6194-41f8-f0c7-cd1c9fc7a8d9",
        "colab": {
          "base_uri": "https://localhost:8080/",
          "height": 104
        }
      },
      "source": [
        "!pip install -q tensorflow-gpu==2.0.0"
      ],
      "execution_count": 0,
      "outputs": [
        {
          "output_type": "stream",
          "text": [
            "\u001b[K     |████████████████████████████████| 380.8MB 40kB/s \n",
            "\u001b[K     |████████████████████████████████| 3.8MB 43.6MB/s \n",
            "\u001b[K     |████████████████████████████████| 450kB 51.5MB/s \n",
            "\u001b[31mERROR: tensorflow 1.15.0 has requirement tensorboard<1.16.0,>=1.15.0, but you'll have tensorboard 2.0.2 which is incompatible.\u001b[0m\n",
            "\u001b[31mERROR: tensorflow 1.15.0 has requirement tensorflow-estimator==1.15.1, but you'll have tensorflow-estimator 2.0.1 which is incompatible.\u001b[0m\n",
            "\u001b[?25h"
          ],
          "name": "stdout"
        }
      ]
    },
    {
      "cell_type": "code",
      "metadata": {
        "id": "9jNxKNfzcJw3",
        "colab_type": "code",
        "outputId": "bc59db4b-b932-493d-9ad4-78c1da2e193b",
        "colab": {
          "base_uri": "https://localhost:8080/",
          "height": 121
        }
      },
      "source": [
        "try:\n",
        "  %tensorflow_version 2.x  # Colab only.\n",
        "except Exception:\n",
        "  pass\n",
        "\n",
        "import tensorflow as tf\n",
        "print(tf.__version__)"
      ],
      "execution_count": 0,
      "outputs": [
        {
          "output_type": "stream",
          "text": [
            "`%tensorflow_version` only switches the major version: `1.x` or `2.x`.\n",
            "You set: `2.x  # Colab only.`. This will be interpreted as: `2.x`.\n",
            "\n",
            "\n",
            "TensorFlow is already loaded. Please restart the runtime to change versions.\n",
            "1.15.0\n"
          ],
          "name": "stdout"
        }
      ]
    },
    {
      "cell_type": "code",
      "metadata": {
        "id": "XmNDH8ged9q8",
        "colab_type": "code",
        "outputId": "38239f4e-d484-4ce8-f24d-4328c6387f02",
        "colab": {
          "base_uri": "https://localhost:8080/",
          "height": 35
        }
      },
      "source": [
        "import tensorflow as tf\n",
        "print(tf.__version__)"
      ],
      "execution_count": 0,
      "outputs": [
        {
          "output_type": "stream",
          "text": [
            "2.0.0\n"
          ],
          "name": "stdout"
        }
      ]
    },
    {
      "cell_type": "code",
      "metadata": {
        "id": "joZIunJreFcr",
        "colab_type": "code",
        "colab": {}
      },
      "source": [
        "# basic modules\n",
        "import numpy as np\n",
        "import pandas as pd\n",
        "import matplotlib.pyplot as plt\n"
      ],
      "execution_count": 0,
      "outputs": []
    },
    {
      "cell_type": "code",
      "metadata": {
        "id": "eS1STb-beRjf",
        "colab_type": "code",
        "outputId": "5590a297-b3e9-4489-e854-3f24daa35ef6",
        "colab": {
          "base_uri": "https://localhost:8080/",
          "height": 305
        }
      },
      "source": [
        "# import preprocesing modules\n",
        "from tensorflow.keras.preprocessing import preprocessing "
      ],
      "execution_count": 0,
      "outputs": [
        {
          "output_type": "error",
          "ename": "ImportError",
          "evalue": "ignored",
          "traceback": [
            "\u001b[0;31m---------------------------------------------------------------------------\u001b[0m",
            "\u001b[0;31mImportError\u001b[0m                               Traceback (most recent call last)",
            "\u001b[0;32m<ipython-input-8-a69708eb9186>\u001b[0m in \u001b[0;36m<module>\u001b[0;34m()\u001b[0m\n\u001b[0;32m----> 1\u001b[0;31m \u001b[0;32mfrom\u001b[0m \u001b[0mtensorflow\u001b[0m\u001b[0;34m.\u001b[0m\u001b[0mkeras\u001b[0m\u001b[0;34m.\u001b[0m\u001b[0mpreprocessing\u001b[0m \u001b[0;32mimport\u001b[0m \u001b[0mpreprocessing\u001b[0m\u001b[0;34m\u001b[0m\u001b[0;34m\u001b[0m\u001b[0m\n\u001b[0m",
            "\u001b[0;31mImportError\u001b[0m: cannot import name 'preprocessing'",
            "",
            "\u001b[0;31m---------------------------------------------------------------------------\u001b[0;32m\nNOTE: If your import is failing due to a missing package, you can\nmanually install dependencies using either !pip or !apt.\n\nTo view examples of installing some common dependencies, click the\n\"Open Examples\" button below.\n\u001b[0;31m---------------------------------------------------------------------------\u001b[0m\n"
          ]
        }
      ]
    },
    {
      "cell_type": "code",
      "metadata": {
        "id": "dkOSArK_ejTX",
        "colab_type": "code",
        "colab": {}
      },
      "source": [
        "# import models\n",
        "from tensorflow.keras.models import Model "
      ],
      "execution_count": 0,
      "outputs": []
    },
    {
      "cell_type": "code",
      "metadata": {
        "id": "n_UHdJlReu8o",
        "colab_type": "code",
        "colab": {}
      },
      "source": [
        "# import layers\n",
        "from tensorflow.keras.layers import Input, Conv2D, Dense, Flatten, Dropout"
      ],
      "execution_count": 0,
      "outputs": []
    },
    {
      "cell_type": "code",
      "metadata": {
        "id": "aufxu7AVfHx5",
        "colab_type": "code",
        "colab": {}
      },
      "source": [
        "# import optimizers \n",
        "from tensorflow.keras.optimizers import SGD, Adam"
      ],
      "execution_count": 0,
      "outputs": []
    },
    {
      "cell_type": "markdown",
      "metadata": {
        "id": "49LtRXEPfdGn",
        "colab_type": "text"
      },
      "source": [
        "**1. Load the data from Fashion MNIST dataset from tensorflow.**"
      ]
    },
    {
      "cell_type": "code",
      "metadata": {
        "id": "C0oC5DqZfoek",
        "colab_type": "code",
        "colab": {}
      },
      "source": [
        "# load the FMNSIT\n",
        "#from tensorflow.keras.datasets import fashion_mnist\n",
        "fashion_mnist = tf.keras.datasets.fashion_mnist\n",
        "(xtrain, ytrain), (xtest,ytest) = fashion_mnist.load_data()"
      ],
      "execution_count": 0,
      "outputs": []
    },
    {
      "cell_type": "markdown",
      "metadata": {
        "id": "HxQW92Dlg8-5",
        "colab_type": "text"
      },
      "source": [
        "**2. Scale the data and normlize** "
      ]
    },
    {
      "cell_type": "code",
      "metadata": {
        "id": "CsxrYqQ5iLu1",
        "colab_type": "code",
        "outputId": "30596735-39c3-4a3f-f3a2-c8d6aef3aee6",
        "colab": {
          "base_uri": "https://localhost:8080/",
          "height": 35
        }
      },
      "source": [
        "xtrain = xtrain / 255.0     # normalizing the data\n",
        "xtest = xtest /255.0      # normalizting the data . note that the data range will between 0 and 1. Not -1 and 1. \n",
        "# if you are planing to use tanh , it makes sense to move the data points centered around zero.\n",
        "# currently it is centered around 0.5 \n",
        "print (xtrain.shape)\n",
        "  \n"
      ],
      "execution_count": 0,
      "outputs": [
        {
          "output_type": "stream",
          "text": [
            "(60000, 28, 28)\n"
          ],
          "name": "stdout"
        }
      ]
    },
    {
      "cell_type": "markdown",
      "metadata": {
        "id": "Vl7uZqiLi5RA",
        "colab_type": "text"
      },
      "source": [
        "Since the above does not have 4 D data, we need to convert this  into 4 D\n",
        "NOTE : Do not run the above statement, it will divide the data by 255.\n",
        "it will be difficult to detect.\n",
        "As best practice, you may need to run/load the data from fmnist dataset."
      ]
    },
    {
      "cell_type": "code",
      "metadata": {
        "id": "O524GOfZi36K",
        "colab_type": "code",
        "outputId": "39b12154-fd6e-4ae9-9fe3-ad2374f549bd",
        "colab": {
          "base_uri": "https://localhost:8080/",
          "height": 35
        }
      },
      "source": [
        "print (ytrain.shape)"
      ],
      "execution_count": 0,
      "outputs": [
        {
          "output_type": "stream",
          "text": [
            "(60000,)\n"
          ],
          "name": "stdout"
        }
      ]
    },
    {
      "cell_type": "code",
      "metadata": {
        "id": "lOMGuQqtj3il",
        "colab_type": "code",
        "outputId": "92986ab1-b184-4f0a-8e1c-244ce50b8a32",
        "colab": {
          "base_uri": "https://localhost:8080/",
          "height": 35
        }
      },
      "source": [
        "xtrain = np.expand_dims(xtrain,-1)\n",
        "xtest = np.expand_dims(xtest,-1)\n",
        "xtrain.shape"
      ],
      "execution_count": 0,
      "outputs": [
        {
          "output_type": "execute_result",
          "data": {
            "text/plain": [
              "(60000, 28, 28, 1)"
            ]
          },
          "metadata": {
            "tags": []
          },
          "execution_count": 17
        }
      ]
    },
    {
      "cell_type": "markdown",
      "metadata": {
        "id": "dwE4Eg4LkTVJ",
        "colab_type": "text"
      },
      "source": [
        "If you run twice, it will print as (60000, 28, 28, 1, 1). Re-run from loading step"
      ]
    },
    {
      "cell_type": "code",
      "metadata": {
        "id": "AHKWcfxgkj2j",
        "colab_type": "code",
        "outputId": "2919324a-d608-4d46-c7da-3bb7f295f73f",
        "colab": {
          "base_uri": "https://localhost:8080/",
          "height": 35
        }
      },
      "source": [
        "xtest.shape"
      ],
      "execution_count": 0,
      "outputs": [
        {
          "output_type": "execute_result",
          "data": {
            "text/plain": [
              "(10000, 28, 28, 1)"
            ]
          },
          "metadata": {
            "tags": []
          },
          "execution_count": 18
        }
      ]
    },
    {
      "cell_type": "markdown",
      "metadata": {
        "id": "VxKilTSfhEg6",
        "colab_type": "text"
      },
      "source": [
        "**3. Build the model using Tensorflow.keras API.**\n",
        "1. idenify the input size\n",
        "2. Identify the output size\n",
        "3. Decide the layers :\n",
        "  3.1 Number of feature extraction layers\n",
        "  3.2 Number of Dense layers for classifification"
      ]
    },
    {
      "cell_type": "code",
      "metadata": {
        "id": "w82O7dfElnbo",
        "colab_type": "code",
        "colab": {}
      },
      "source": [
        "# input  is xtrain.shape[0] will do \n",
        "# output is the number of classifications\n",
        "K = len(set(ytrain))"
      ],
      "execution_count": 0,
      "outputs": []
    },
    {
      "cell_type": "code",
      "metadata": {
        "id": "cE_h8h8HmAnM",
        "colab_type": "code",
        "outputId": "2f0e49b1-aa8f-4cfd-f363-0e92efc28a75",
        "colab": {
          "base_uri": "https://localhost:8080/",
          "height": 35
        }
      },
      "source": [
        "print(\"Number of classifications: \",K)"
      ],
      "execution_count": 0,
      "outputs": [
        {
          "output_type": "stream",
          "text": [
            "Number of classifications:  10\n"
          ],
          "name": "stdout"
        }
      ]
    },
    {
      "cell_type": "code",
      "metadata": {
        "id": "NL_pggRXmMC9",
        "colab_type": "code",
        "colab": {}
      },
      "source": [
        "i = Input(shape=xtrain[0].shape)\n",
        "#i = Input(shape=xtrain.shape[0]) was statement.\n",
        "x = Conv2D(32, (3, 3), strides=2, activation=\"relu\")(i)\n",
        "x = Conv2D(64, (3, 3), strides=2, activation=\"relu\")(x)\n",
        "x = Conv2D(128,(3, 3), strides=2, activation=\"relu\")(x)\n",
        "# Flatten before entering into  the classfier layers\n",
        "x = Flatten()(x)\n",
        "x = Dropout(0.2)(x)\n",
        "# do you know what is  the dimension at this stage?\n",
        "x = Dense(512,activation=\"relu\")(x)\n",
        "x = Dropout(0.2)(x)\n",
        "x = Dense(K,activation=\"softmax\")(x)\n",
        "model = Model (i,x)\n",
        "\n"
      ],
      "execution_count": 0,
      "outputs": []
    },
    {
      "cell_type": "markdown",
      "metadata": {
        "id": "KOZ-VCP5hMH6",
        "colab_type": "text"
      },
      "source": [
        "**4. Train the model using the data**"
      ]
    },
    {
      "cell_type": "code",
      "metadata": {
        "id": "oU8upIDRpJeb",
        "colab_type": "code",
        "colab": {}
      },
      "source": [
        "# set up loss function\n",
        "model.compile(optimizer='adam',loss=\"sparse_categorical_crossentropy\", metrics=[\"accuracy\"])\n"
      ],
      "execution_count": 0,
      "outputs": []
    },
    {
      "cell_type": "code",
      "metadata": {
        "id": "pUhlbCJbp63S",
        "colab_type": "code",
        "outputId": "b6049fd2-76f8-4cc5-992e-fa1ceff57f23",
        "colab": {
          "base_uri": "https://localhost:8080/",
          "height": 555
        }
      },
      "source": [
        "# train the model: Give the train sets and validation sets and specify how many round of iteration you want to do.\n",
        "r = model.fit(xtrain,ytrain, validation_data=(xtest,ytest),epochs=15) # try with a small set of data now."
      ],
      "execution_count": 0,
      "outputs": [
        {
          "output_type": "stream",
          "text": [
            "Train on 60000 samples, validate on 10000 samples\n",
            "Epoch 1/15\n",
            "60000/60000 [==============================] - 36s 596us/sample - loss: 0.3635 - accuracy: 0.8637 - val_loss: 0.3558 - val_accuracy: 0.8685\n",
            "Epoch 2/15\n",
            "60000/60000 [==============================] - 36s 597us/sample - loss: 0.3114 - accuracy: 0.8834 - val_loss: 0.3213 - val_accuracy: 0.8793\n",
            "Epoch 3/15\n",
            "60000/60000 [==============================] - 36s 596us/sample - loss: 0.2760 - accuracy: 0.8953 - val_loss: 0.2935 - val_accuracy: 0.8943\n",
            "Epoch 4/15\n",
            "60000/60000 [==============================] - 35s 589us/sample - loss: 0.2522 - accuracy: 0.9053 - val_loss: 0.2912 - val_accuracy: 0.8957\n",
            "Epoch 5/15\n",
            "60000/60000 [==============================] - 36s 594us/sample - loss: 0.2311 - accuracy: 0.9118 - val_loss: 0.2942 - val_accuracy: 0.8953\n",
            "Epoch 6/15\n",
            "60000/60000 [==============================] - 36s 599us/sample - loss: 0.2127 - accuracy: 0.9196 - val_loss: 0.2822 - val_accuracy: 0.9022\n",
            "Epoch 7/15\n",
            "60000/60000 [==============================] - 36s 607us/sample - loss: 0.1967 - accuracy: 0.9257 - val_loss: 0.3017 - val_accuracy: 0.8981\n",
            "Epoch 8/15\n",
            "60000/60000 [==============================] - 37s 611us/sample - loss: 0.1819 - accuracy: 0.9308 - val_loss: 0.3026 - val_accuracy: 0.9002\n",
            "Epoch 9/15\n",
            "60000/60000 [==============================] - 36s 605us/sample - loss: 0.1687 - accuracy: 0.9351 - val_loss: 0.3137 - val_accuracy: 0.8998\n",
            "Epoch 10/15\n",
            "60000/60000 [==============================] - 36s 603us/sample - loss: 0.1597 - accuracy: 0.9390 - val_loss: 0.3041 - val_accuracy: 0.9006\n",
            "Epoch 11/15\n",
            "60000/60000 [==============================] - 36s 603us/sample - loss: 0.1499 - accuracy: 0.9426 - val_loss: 0.3319 - val_accuracy: 0.9030\n",
            "Epoch 12/15\n",
            "60000/60000 [==============================] - 37s 616us/sample - loss: 0.1393 - accuracy: 0.9464 - val_loss: 0.3190 - val_accuracy: 0.9023\n",
            "Epoch 13/15\n",
            "60000/60000 [==============================] - 36s 603us/sample - loss: 0.1341 - accuracy: 0.9487 - val_loss: 0.3319 - val_accuracy: 0.9021\n",
            "Epoch 14/15\n",
            "60000/60000 [==============================] - 36s 592us/sample - loss: 0.1249 - accuracy: 0.9525 - val_loss: 0.3492 - val_accuracy: 0.8998\n",
            "Epoch 15/15\n",
            "60000/60000 [==============================] - 37s 620us/sample - loss: 0.1226 - accuracy: 0.9536 - val_loss: 0.3369 - val_accuracy: 0.9011\n"
          ],
          "name": "stdout"
        }
      ]
    },
    {
      "cell_type": "markdown",
      "metadata": {
        "id": "0uRMOYojhSKC",
        "colab_type": "text"
      },
      "source": [
        "**5. Verify the losses on both test and train sets**"
      ]
    },
    {
      "cell_type": "code",
      "metadata": {
        "id": "S-0s6tTvrZ5Z",
        "colab_type": "code",
        "outputId": "8da42c76-289e-4b67-baf8-4e95dc6aca81",
        "colab": {
          "base_uri": "https://localhost:8080/",
          "height": 283
        }
      },
      "source": [
        "plt.plot(r.history[\"loss\"],label=\"loss\")\n",
        "plt.plot(r.history[\"val_loss\"], label=\"val_loss\")\n",
        "plt.legend()\n"
      ],
      "execution_count": 0,
      "outputs": [
        {
          "output_type": "execute_result",
          "data": {
            "text/plain": [
              "<matplotlib.legend.Legend at 0x7ffabd418208>"
            ]
          },
          "metadata": {
            "tags": []
          },
          "execution_count": 29
        },
        {
          "output_type": "display_data",
          "data": {
            "image/png": "[encoded data removed]",
            "text/plain": [
              "<Figure size 432x288 with 1 Axes>"
            ]
          },
          "metadata": {
            "tags": []
          }
        }
      ]
    },
    {
      "cell_type": "code",
      "metadata": {
        "id": "IXYLSEjorq9u",
        "colab_type": "code",
        "outputId": "1507644d-d52f-4506-f5e4-05d3a5bcbf4a",
        "colab": {
          "base_uri": "https://localhost:8080/",
          "height": 283
        }
      },
      "source": [
        "# checking accuracy\n",
        "plt.plot(r.history[\"accuracy\"],label=\"accuracy\")\n",
        "plt.plot(r.history[\"val_accuracy\"], label=\"val_accuracy\")\n",
        "plt.legend()\n"
      ],
      "execution_count": 0,
      "outputs": [
        {
          "output_type": "execute_result",
          "data": {
            "text/plain": [
              "<matplotlib.legend.Legend at 0x7ffabf000860>"
            ]
          },
          "metadata": {
            "tags": []
          },
          "execution_count": 30
        },
        {
          "output_type": "display_data",
          "data": {
            "image/png": "[encoded data removed]",
            "text/plain": [
              "<Figure size 432x288 with 1 Axes>"
            ]
          },
          "metadata": {
            "tags": []
          }
        }
      ]
    },
    {
      "cell_type": "markdown",
      "metadata": {
        "id": "uFpz6fHQsvbC",
        "colab_type": "text"
      },
      "source": [
        "test accuracy did not increase when training accuracy increase. \n",
        "it is leading to overfitting to the noise."
      ]
    },
    {
      "cell_type": "markdown",
      "metadata": {
        "id": "qgSoGyBzhbEc",
        "colab_type": "text"
      },
      "source": [
        "**6. Check the confusion matrics for verifying the misclassification**"
      ]
    },
    {
      "cell_type": "code",
      "metadata": {
        "id": "QdgzQQfTr6zF",
        "colab_type": "code",
        "outputId": "fbf60bfc-c1a0-43c7-a3d3-2f8a3fab9ece",
        "colab": {
          "base_uri": "https://localhost:8080/",
          "height": 502
        }
      },
      "source": [
        "from sklearn.metrics import confusion_matrix\n",
        "import itertools\n",
        "\n",
        "def plot_confusion_matrix(cm, classes,\n",
        "                          normalize=False,\n",
        "                          title='Confusion matrix',\n",
        "                          cmap=plt.cm.Blues):\n",
        "  if normalize:\n",
        "      cm = cm.astype('float') / cm.sum(axis=1)[:, np.newaxis]\n",
        "      print(\"Normalized confusion matrix\")\n",
        "  else:\n",
        "      print('Confusion matrix, without normalization')\n",
        "\n",
        "  print(cm)\n",
        "\n",
        "  plt.imshow(cm, interpolation='nearest', cmap=cmap)\n",
        "  plt.title(title)\n",
        "  plt.colorbar()\n",
        "  tick_marks = np.arange(len(classes))\n",
        "  plt.xticks(tick_marks, classes, rotation=45)\n",
        "  plt.yticks(tick_marks, classes)\n",
        "\n",
        "  fmt = '.2f' if normalize else 'd'\n",
        "  thresh = cm.max() / 2.\n",
        "  for i, j in itertools.product(range(cm.shape[0]), range(cm.shape[1])):\n",
        "      plt.text(j, i, format(cm[i, j], fmt),\n",
        "               horizontalalignment=\"center\",\n",
        "               color=\"white\" if cm[i, j] > thresh else \"black\")\n",
        "\n",
        "  plt.tight_layout()\n",
        "  plt.ylabel('True label')\n",
        "  plt.xlabel('Predicted label')\n",
        "  plt.show()\n",
        "\n",
        "\n",
        "\n",
        "ptest = model.predict(xtest).argmax(axis=1)\n",
        "cm = confusion_matrix(ytest, ptest)\n",
        "plot_confusion_matrix(cm, list(range(10)))\n",
        "\n"
      ],
      "execution_count": 0,
      "outputs": [
        {
          "output_type": "stream",
          "text": [
            "Confusion matrix, without normalization\n",
            "[[880   3  22  17   1   0  71   0   6   0]\n",
            " [  2 978   0  13   2   0   4   0   1   0]\n",
            " [ 15   1 864  11  46   0  62   0   1   0]\n",
            " [ 12   1  22 907  19   0  36   1   2   0]\n",
            " [  1   1  59  25 818   1  95   0   0   0]\n",
            " [  0   0   0   0   0 962   0  23   3  12]\n",
            " [137   2  66  23  64   0 697   0  11   0]\n",
            " [  0   0   0   0   0  10   0 974   0  16]\n",
            " [  6   0   4   2   4   0   6   5 973   0]\n",
            " [  0   0   0   0   0   3   1  38   0 958]]\n"
          ],
          "name": "stdout"
        },
        {
          "output_type": "display_data",
          "data": {
            "image/png": "[encoded data removed]",
            "text/plain": [
              "<Figure size 432x288 with 2 Axes>"
            ]
          },
          "metadata": {
            "tags": []
          }
        }
      ]
    },
    {
      "cell_type": "markdown",
      "metadata": {
        "id": "Ghl2y-t8hquo",
        "colab_type": "text"
      },
      "source": [
        "**7. Check if the misclassifications make any sense.**"
      ]
    },
    {
      "cell_type": "code",
      "metadata": {
        "id": "bf7yJ1DstGp6",
        "colab_type": "code",
        "colab": {}
      },
      "source": [
        "# Label mapping\n",
        "labels = '''T-shirt/top\n",
        "Trouser\n",
        "Pullover\n",
        "Dress\n",
        "Coat\n",
        "Sandal\n",
        "Shirt\n",
        "Sneaker\n",
        "Bag\n",
        "Ankle boot'''.split(\"\\n\")"
      ],
      "execution_count": 0,
      "outputs": []
    },
    {
      "cell_type": "code",
      "metadata": {
        "id": "oRDzYoMhtMMs",
        "colab_type": "code",
        "outputId": "e8c79293-a877-41f5-ebe5-46aeca51a10e",
        "colab": {
          "base_uri": "https://localhost:8080/",
          "height": 281
        }
      },
      "source": [
        "misclassified_idx = np.where(ptest != ytest)[0]\n",
        "i = np.random.choice(misclassified_idx)\n",
        "plt.imshow(xtest[i].reshape(28,28), cmap='gray')\n",
        "plt.title(\"True label: %s Predicted: %s\" % (labels[ytest[i]], labels[ptest[i]]));"
      ],
      "execution_count": 0,
      "outputs": [
        {
          "output_type": "display_data",
          "data": {
            "image/png": "[encoded data removed]",
            "text/plain": [
              "<Figure size 432x288 with 1 Axes>"
            ]
          },
          "metadata": {
            "tags": []
          }
        }
      ]
    },
    {
      "cell_type": "markdown",
      "metadata": {
        "id": "y9lzQSwrm8Kx",
        "colab_type": "text"
      },
      "source": [
        "**8. Check out model Summary to understand the various parameters of the model.**"
      ]
    },
    {
      "cell_type": "code",
      "metadata": {
        "id": "lFPQOzw5D-s6",
        "colab_type": "code",
        "colab": {
          "base_uri": "https://localhost:8080/",
          "height": 485
        },
        "outputId": "d6793eb0-6a5d-47ac-e925-6f4ceedcd7da"
      },
      "source": [
        "print(model.summary())"
      ],
      "execution_count": 44,
      "outputs": [
        {
          "output_type": "stream",
          "text": [
            "Model: \"model\"\n",
            "_________________________________________________________________\n",
            "Layer (type)                 Output Shape              Param #   \n",
            "=================================================================\n",
            "input_3 (InputLayer)         [(None, 28, 28, 1)]       0         \n",
            "_________________________________________________________________\n",
            "conv2d (Conv2D)              (None, 13, 13, 32)        320       \n",
            "_________________________________________________________________\n",
            "conv2d_1 (Conv2D)            (None, 6, 6, 64)          18496     \n",
            "_________________________________________________________________\n",
            "conv2d_2 (Conv2D)            (None, 2, 2, 128)         73856     \n",
            "_________________________________________________________________\n",
            "flatten (Flatten)            (None, 512)               0         \n",
            "_________________________________________________________________\n",
            "dropout (Dropout)            (None, 512)               0         \n",
            "_________________________________________________________________\n",
            "dense (Dense)                (None, 512)               262656    \n",
            "_________________________________________________________________\n",
            "dropout_1 (Dropout)          (None, 512)               0         \n",
            "_________________________________________________________________\n",
            "dense_1 (Dense)              (None, 10)                5130      \n",
            "=================================================================\n",
            "Total params: 360,458\n",
            "Trainable params: 360,458\n",
            "Non-trainable params: 0\n",
            "_________________________________________________________________\n",
            "None\n"
          ],
          "name": "stdout"
        }
      ]
    },
    {
      "cell_type": "markdown",
      "metadata": {
        "id": "PNqA7BojhyoC",
        "colab_type": "text"
      },
      "source": [
        "**9. Have open questions and suggestons to improve the model.**"
      ]
    },
    {
      "cell_type": "markdown",
      "metadata": {
        "id": "yZ7YSb2ZFtJM",
        "colab_type": "text"
      },
      "source": [
        "How to improve the model accuracy. It is around 90% only for validation\n",
        "95 % for train set"
      ]
    }
  ]
}
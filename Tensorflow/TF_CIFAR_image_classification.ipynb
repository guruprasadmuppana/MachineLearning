{
  "nbformat": 4,
  "nbformat_minor": 0,
  "metadata": {
    "colab": {
      "name": "TF CIFAR image classification.ipynb",
      "provenance": [],
      "collapsed_sections": []
    },
    "kernelspec": {
      "name": "python3",
      "display_name": "Python 3"
    },
    "accelerator": "GPU"
  },
  "cells": [
    {
      "cell_type": "markdown",
      "metadata": {
        "id": "aZAUsKvRHX9k",
        "colab_type": "text"
      },
      "source": [
        "# **This  is a classfication on CIFAR using TF-CNN.**"
      ]
    },
    {
      "cell_type": "code",
      "metadata": {
        "id": "PLkOvI_3uEaf",
        "colab_type": "code",
        "outputId": "8f574ffc-86fb-4ea4-ef49-251360681fb2",
        "colab": {
          "base_uri": "https://localhost:8080/",
          "height": 104
        }
      },
      "source": [
        "# Install TensorFlow\n",
        "!pip install -q tensorflow-gpu==2.0\n",
        "\n"
      ],
      "execution_count": 2,
      "outputs": [
        {
          "output_type": "stream",
          "text": [
            "\u001b[K     |████████████████████████████████| 380.8MB 43kB/s \n",
            "\u001b[K     |████████████████████████████████| 450kB 62.1MB/s \n",
            "\u001b[K     |████████████████████████████████| 3.8MB 53.8MB/s \n",
            "\u001b[31mERROR: tensorflow 1.15.0 has requirement tensorboard<1.16.0,>=1.15.0, but you'll have tensorboard 2.0.2 which is incompatible.\u001b[0m\n",
            "\u001b[31mERROR: tensorflow 1.15.0 has requirement tensorflow-estimator==1.15.1, but you'll have tensorflow-estimator 2.0.1 which is incompatible.\u001b[0m\n",
            "\u001b[?25h"
          ],
          "name": "stdout"
        }
      ]
    },
    {
      "cell_type": "code",
      "metadata": {
        "id": "EVAFSNxxuuWM",
        "colab_type": "code",
        "outputId": "76968e67-4f05-4225-c450-24dc0a39f3f3",
        "colab": {
          "base_uri": "https://localhost:8080/",
          "height": 35
        }
      },
      "source": [
        "import tensorflow as tf\n",
        "print(tf.__version__)"
      ],
      "execution_count": 1,
      "outputs": [
        {
          "output_type": "stream",
          "text": [
            "2.0.0\n"
          ],
          "name": "stdout"
        }
      ]
    },
    {
      "cell_type": "code",
      "metadata": {
        "id": "kZmxbiCZu4KO",
        "colab_type": "code",
        "colab": {}
      },
      "source": [
        "import numpy as np\n",
        "import matplotlib.pyplot as plt\n",
        "from tensorflow.keras.layers import Input, Conv2D, Dense, Flatten, Dropout \n",
        "from tensorflow.keras.layers import GlobalMaxPool2D\n",
        "from tensorflow.keras.models import Model"
      ],
      "execution_count": 0,
      "outputs": []
    },
    {
      "cell_type": "code",
      "metadata": {
        "id": "1myCvR_HvKtz",
        "colab_type": "code",
        "outputId": "c59f8e5b-dfad-4224-e9e2-03c9e000de46",
        "colab": {
          "base_uri": "https://localhost:8080/",
          "height": 87
        }
      },
      "source": [
        "# Load in the data\n",
        "cifar10 = tf.keras.datasets.cifar10\n",
        "\n",
        "(x_train, y_train), (x_test, y_test) = cifar10.load_data()\n",
        "x_train, x_test = x_train / 255.0, x_test / 255.0\n",
        "y_train, y_test = y_train.flatten(), y_test.flatten()\n",
        "print(\"x_train.shape:\", x_train.shape)\n",
        "print(\"y_train.shape\", y_train.shape)"
      ],
      "execution_count": 3,
      "outputs": [
        {
          "output_type": "stream",
          "text": [
            "Downloading data from https://www.cs.toronto.edu/~kriz/cifar-10-python.tar.gz\n",
            "170500096/170498071 [==============================] - 2s 0us/step\n",
            "x_train.shape: (50000, 32, 32, 3)\n",
            "y_train.shape (50000,)\n"
          ],
          "name": "stdout"
        }
      ]
    },
    {
      "cell_type": "code",
      "metadata": {
        "id": "2iKe_RjJveo0",
        "colab_type": "code",
        "outputId": "e526ba51-b0d0-4e76-c02d-5b02ae381b63",
        "colab": {
          "base_uri": "https://localhost:8080/",
          "height": 35
        }
      },
      "source": [
        "# number of classes\n",
        "K = len(set(y_train))\n",
        "print(\"number of classes:\", K)"
      ],
      "execution_count": 4,
      "outputs": [
        {
          "output_type": "stream",
          "text": [
            "number of classes: 10\n"
          ],
          "name": "stdout"
        }
      ]
    },
    {
      "cell_type": "code",
      "metadata": {
        "id": "FxwsJGdVvmOe",
        "colab_type": "code",
        "colab": {}
      },
      "source": [
        "# Build the model using the functional API\n",
        "i = Input(shape=x_train[0].shape)\n",
        "x = Conv2D(32, (3, 3), strides=2, activation='relu')(i)\n",
        "x = Conv2D(64, (3, 3), strides=2, activation='relu')(x)\n",
        "x = Conv2D(128, (3, 3), strides=2, activation='relu')(x)\n",
        "x = Flatten()(x)\n",
        "x = Dropout(0.5)(x)\n",
        "x = Dense(1024, activation='relu')(x)\n",
        "x = Dropout(0.2)(x)\n",
        "x = Dense(K, activation='softmax')(x)\n",
        "\n",
        "model = Model(i, x)"
      ],
      "execution_count": 0,
      "outputs": []
    },
    {
      "cell_type": "code",
      "metadata": {
        "id": "y4ws340vvsjk",
        "colab_type": "code",
        "outputId": "2fbf9d95-85be-4cd3-f6b6-e79ed44b0759",
        "colab": {
          "base_uri": "https://localhost:8080/",
          "height": 901
        }
      },
      "source": [
        "# Compile and fit\n",
        "# Running this on GPUs\n",
        "model.compile(optimizer='adam',\n",
        "              loss='sparse_categorical_crossentropy',\n",
        "              metrics=['accuracy'])\n",
        "r = model.fit(x_train, y_train, validation_data=(x_test, y_test), epochs=25)"
      ],
      "execution_count": 15,
      "outputs": [
        {
          "output_type": "stream",
          "text": [
            "Train on 50000 samples, validate on 10000 samples\n",
            "Epoch 1/25\n",
            "50000/50000 [==============================] - 8s 169us/sample - loss: 0.6041 - accuracy: 0.7860 - val_loss: 0.7986 - val_accuracy: 0.7275\n",
            "Epoch 2/25\n",
            "50000/50000 [==============================] - 7s 147us/sample - loss: 0.5913 - accuracy: 0.7911 - val_loss: 0.7867 - val_accuracy: 0.7290\n",
            "Epoch 3/25\n",
            "50000/50000 [==============================] - 7s 147us/sample - loss: 0.5686 - accuracy: 0.7965 - val_loss: 0.8012 - val_accuracy: 0.7221\n",
            "Epoch 4/25\n",
            "50000/50000 [==============================] - 8s 151us/sample - loss: 0.5550 - accuracy: 0.8027 - val_loss: 0.7825 - val_accuracy: 0.7311\n",
            "Epoch 5/25\n",
            "50000/50000 [==============================] - 7s 149us/sample - loss: 0.5443 - accuracy: 0.8067 - val_loss: 0.7866 - val_accuracy: 0.7282\n",
            "Epoch 6/25\n",
            "50000/50000 [==============================] - 7s 148us/sample - loss: 0.5285 - accuracy: 0.8133 - val_loss: 0.8036 - val_accuracy: 0.7291\n",
            "Epoch 7/25\n",
            "50000/50000 [==============================] - 7s 148us/sample - loss: 0.5250 - accuracy: 0.8150 - val_loss: 0.7792 - val_accuracy: 0.7325\n",
            "Epoch 8/25\n",
            "50000/50000 [==============================] - 7s 149us/sample - loss: 0.5104 - accuracy: 0.8190 - val_loss: 0.7840 - val_accuracy: 0.7352\n",
            "Epoch 9/25\n",
            "50000/50000 [==============================] - 8s 153us/sample - loss: 0.4993 - accuracy: 0.8239 - val_loss: 0.8021 - val_accuracy: 0.7265\n",
            "Epoch 10/25\n",
            "50000/50000 [==============================] - 7s 145us/sample - loss: 0.4895 - accuracy: 0.8265 - val_loss: 0.7950 - val_accuracy: 0.7275\n",
            "Epoch 11/25\n",
            "50000/50000 [==============================] - 7s 143us/sample - loss: 0.4840 - accuracy: 0.8283 - val_loss: 0.8061 - val_accuracy: 0.7297\n",
            "Epoch 12/25\n",
            "50000/50000 [==============================] - 7s 150us/sample - loss: 0.4795 - accuracy: 0.8296 - val_loss: 0.8050 - val_accuracy: 0.7289\n",
            "Epoch 13/25\n",
            "50000/50000 [==============================] - 7s 145us/sample - loss: 0.4623 - accuracy: 0.8381 - val_loss: 0.7905 - val_accuracy: 0.7347\n",
            "Epoch 14/25\n",
            "50000/50000 [==============================] - 7s 141us/sample - loss: 0.4553 - accuracy: 0.8413 - val_loss: 0.8122 - val_accuracy: 0.7278\n",
            "Epoch 15/25\n",
            "50000/50000 [==============================] - 7s 143us/sample - loss: 0.4616 - accuracy: 0.8390 - val_loss: 0.8265 - val_accuracy: 0.7220\n",
            "Epoch 16/25\n",
            "50000/50000 [==============================] - 7s 142us/sample - loss: 0.4488 - accuracy: 0.8438 - val_loss: 0.8048 - val_accuracy: 0.7293\n",
            "Epoch 17/25\n",
            "50000/50000 [==============================] - 7s 148us/sample - loss: 0.4484 - accuracy: 0.8439 - val_loss: 0.7968 - val_accuracy: 0.7279\n",
            "Epoch 18/25\n",
            "50000/50000 [==============================] - 7s 145us/sample - loss: 0.4416 - accuracy: 0.8439 - val_loss: 0.8000 - val_accuracy: 0.7304\n",
            "Epoch 19/25\n",
            "50000/50000 [==============================] - 7s 142us/sample - loss: 0.4326 - accuracy: 0.8496 - val_loss: 0.8124 - val_accuracy: 0.7240\n",
            "Epoch 20/25\n",
            "50000/50000 [==============================] - 7s 144us/sample - loss: 0.4343 - accuracy: 0.8503 - val_loss: 0.8024 - val_accuracy: 0.7343\n",
            "Epoch 21/25\n",
            "50000/50000 [==============================] - 7s 140us/sample - loss: 0.4230 - accuracy: 0.8527 - val_loss: 0.8063 - val_accuracy: 0.7307\n",
            "Epoch 22/25\n",
            "50000/50000 [==============================] - 7s 140us/sample - loss: 0.4201 - accuracy: 0.8538 - val_loss: 0.8217 - val_accuracy: 0.7233\n",
            "Epoch 23/25\n",
            "50000/50000 [==============================] - 7s 143us/sample - loss: 0.4163 - accuracy: 0.8561 - val_loss: 0.8306 - val_accuracy: 0.7226\n",
            "Epoch 24/25\n",
            "50000/50000 [==============================] - 7s 144us/sample - loss: 0.4061 - accuracy: 0.8598 - val_loss: 0.8229 - val_accuracy: 0.7256\n",
            "Epoch 25/25\n",
            "50000/50000 [==============================] - 8s 152us/sample - loss: 0.4161 - accuracy: 0.8560 - val_loss: 0.8249 - val_accuracy: 0.7255\n"
          ],
          "name": "stdout"
        }
      ]
    },
    {
      "cell_type": "code",
      "metadata": {
        "id": "dr91DGzOxefW",
        "colab_type": "code",
        "outputId": "444e9151-2d2a-444d-ff28-f8df039692c2",
        "colab": {
          "base_uri": "https://localhost:8080/",
          "height": 283
        }
      },
      "source": [
        "import matplotlib.pyplot as plt\n",
        "plt.plot(r.history['loss'], label='loss')\n",
        "plt.plot(r.history['val_loss'], label='val_loss')\n",
        "plt.legend()"
      ],
      "execution_count": 16,
      "outputs": [
        {
          "output_type": "execute_result",
          "data": {
            "text/plain": [
              "<matplotlib.legend.Legend at 0x7fd6c824f278>"
            ]
          },
          "metadata": {
            "tags": []
          },
          "execution_count": 16
        },
        {
          "output_type": "display_data",
          "data": {
            "image/png": "[encoded data removed]",
            "text/plain": [
              "<Figure size 432x288 with 1 Axes>"
            ]
          },
          "metadata": {
            "tags": []
          }
        }
      ]
    },
    {
      "cell_type": "code",
      "metadata": {
        "id": "7LWilbBRxirX",
        "colab_type": "code",
        "outputId": "dd91bc65-a8ee-45ee-e00d-a6b5922e72df",
        "colab": {
          "base_uri": "https://localhost:8080/",
          "height": 283
        }
      },
      "source": [
        "plt.plot(r.history['accuracy'], label='acc')\n",
        "plt.plot(r.history['val_accuracy'], label='val_acc')\n",
        "plt.legend()"
      ],
      "execution_count": 17,
      "outputs": [
        {
          "output_type": "execute_result",
          "data": {
            "text/plain": [
              "<matplotlib.legend.Legend at 0x7fd6c821b0b8>"
            ]
          },
          "metadata": {
            "tags": []
          },
          "execution_count": 17
        },
        {
          "output_type": "display_data",
          "data": {
            "image/png": "[encoded data removed]",
            "text/plain": [
              "<Figure size 432x288 with 1 Axes>"
            ]
          },
          "metadata": {
            "tags": []
          }
        }
      ]
    },
    {
      "cell_type": "code",
      "metadata": {
        "id": "SK3D3aEDx5z7",
        "colab_type": "code",
        "outputId": "55b3cedc-8e6a-4b01-d395-9c329f138876",
        "colab": {
          "base_uri": "https://localhost:8080/",
          "height": 502
        }
      },
      "source": [
        "from sklearn.metrics import confusion_matrix\n",
        "import itertools\n",
        "\n",
        "def plot_confusion_matrix(cm, classes,\n",
        "                          normalize=False,\n",
        "                          title='Confusion matrix',\n",
        "                          cmap=plt.cm.Blues):\n",
        "  \"\"\"\n",
        "  This function prints and plots the confusion matrix.\n",
        "  Normalization can be applied by setting `normalize=True`.\n",
        "  \"\"\"\n",
        "  if normalize:\n",
        "      cm = cm.astype('float') / cm.sum(axis=1)[:, np.newaxis]\n",
        "      print(\"Normalized confusion matrix\")\n",
        "  else:\n",
        "      print('Confusion matrix, without normalization')\n",
        "\n",
        "  print(cm)\n",
        "\n",
        "  plt.imshow(cm, interpolation='nearest', cmap=cmap)\n",
        "  plt.title(title)\n",
        "  plt.colorbar()\n",
        "  tick_marks = np.arange(len(classes))\n",
        "  plt.xticks(tick_marks, classes, rotation=45)\n",
        "  plt.yticks(tick_marks, classes)\n",
        "\n",
        "  fmt = '.2f' if normalize else 'd'\n",
        "  thresh = cm.max() / 2.\n",
        "  for i, j in itertools.product(range(cm.shape[0]), range(cm.shape[1])):\n",
        "      plt.text(j, i, format(cm[i, j], fmt),\n",
        "               horizontalalignment=\"center\",\n",
        "               color=\"white\" if cm[i, j] > thresh else \"black\")\n",
        "\n",
        "  plt.tight_layout()\n",
        "  plt.ylabel('True label')\n",
        "  plt.xlabel('Predicted label')\n",
        "  plt.show()\n",
        "\n",
        "\n",
        "p_test = model.predict(x_test).argmax(axis=1)\n",
        "cm = confusion_matrix(y_test, p_test)\n",
        "plot_confusion_matrix(cm, list(range(10)))"
      ],
      "execution_count": 18,
      "outputs": [
        {
          "output_type": "stream",
          "text": [
            "Confusion matrix, without normalization\n",
            "[[737  20  31  22  15   5  19  11 100  40]\n",
            " [ 15 834   2   6   2   3  12   0  31  95]\n",
            " [ 62   9 536  53 108  81  94  29  18  10]\n",
            " [ 17   6  39 487  81 189  99  37  17  28]\n",
            " [ 14   4  46  51 719  25  67  57  12   5]\n",
            " [ 10   2  34 146  63 625  44  57   8  11]\n",
            " [  5   4  22  42  30  20 859   9   7   2]\n",
            " [ 24   3  15  35  66  44  11 779   3  20]\n",
            " [ 44  26   5  13   6   5   4   5 860  32]\n",
            " [ 36  65   4  15   2   8   9  17  25 819]]\n"
          ],
          "name": "stdout"
        },
        {
          "output_type": "display_data",
          "data": {
            "image/png": "[encoded data removed]",
            "text/plain": [
              "<Figure size 432x288 with 2 Axes>"
            ]
          },
          "metadata": {
            "tags": []
          }
        }
      ]
    },
    {
      "cell_type": "code",
      "metadata": {
        "id": "kzPEI7MDxnhL",
        "colab_type": "code",
        "colab": {}
      },
      "source": [
        "labels = '''airplane\n",
        "automobile\n",
        "bird\n",
        "cat\n",
        "deer\n",
        "dog\n",
        "frog\n",
        "horse\n",
        "ship\n",
        "truck'''.split()"
      ],
      "execution_count": 0,
      "outputs": []
    },
    {
      "cell_type": "code",
      "metadata": {
        "id": "EMehArk1xu-9",
        "colab_type": "code",
        "outputId": "454a6546-cd44-43c1-bafe-e2812144f8bc",
        "colab": {
          "base_uri": "https://localhost:8080/",
          "height": 281
        }
      },
      "source": [
        "misclassified_idx = np.where(p_test != y_test)[0]\n",
        "i = np.random.choice(misclassified_idx)\n",
        "plt.imshow(x_test[i], cmap='gray')\n",
        "plt.title(\"True label: %s Predicted: %s\" % (labels[y_test[i]], labels[p_test[i]]));"
      ],
      "execution_count": 25,
      "outputs": [
        {
          "output_type": "display_data",
          "data": {
            "image/png": "[encoded data removed]",
            "text/plain": [
              "<Figure size 432x288 with 1 Axes>"
            ]
          },
          "metadata": {
            "tags": []
          }
        }
      ]
    },
    {
      "cell_type": "code",
      "metadata": {
        "id": "ZYdeWG5cGxfB",
        "colab_type": "code",
        "colab": {
          "base_uri": "https://localhost:8080/",
          "height": 468
        },
        "outputId": "1d6b9860-e4b4-4581-9477-75e425f2d774"
      },
      "source": [
        "model.summary()"
      ],
      "execution_count": 26,
      "outputs": [
        {
          "output_type": "stream",
          "text": [
            "Model: \"model\"\n",
            "_________________________________________________________________\n",
            "Layer (type)                 Output Shape              Param #   \n",
            "=================================================================\n",
            "input_1 (InputLayer)         [(None, 32, 32, 3)]       0         \n",
            "_________________________________________________________________\n",
            "conv2d (Conv2D)              (None, 15, 15, 32)        896       \n",
            "_________________________________________________________________\n",
            "conv2d_1 (Conv2D)            (None, 7, 7, 64)          18496     \n",
            "_________________________________________________________________\n",
            "conv2d_2 (Conv2D)            (None, 3, 3, 128)         73856     \n",
            "_________________________________________________________________\n",
            "flatten (Flatten)            (None, 1152)              0         \n",
            "_________________________________________________________________\n",
            "dropout (Dropout)            (None, 1152)              0         \n",
            "_________________________________________________________________\n",
            "dense (Dense)                (None, 1024)              1180672   \n",
            "_________________________________________________________________\n",
            "dropout_1 (Dropout)          (None, 1024)              0         \n",
            "_________________________________________________________________\n",
            "dense_1 (Dense)              (None, 10)                10250     \n",
            "=================================================================\n",
            "Total params: 1,284,170\n",
            "Trainable params: 1,284,170\n",
            "Non-trainable params: 0\n",
            "_________________________________________________________________\n"
          ],
          "name": "stdout"
        }
      ]
    },
    {
      "cell_type": "markdown",
      "metadata": {
        "id": "cGHxM70DIuAg",
        "colab_type": "text"
      },
      "source": [
        "Note that the  number of parameters almost double compared to gray scaled Fashion MNIST data base.\n",
        "\n",
        "however, the accuracy is low compared. It is about 80% only.\n",
        "\n",
        "solution is to use normalization layers.\n",
        "\n",
        "NOTE: When we increased the training iterations, the accuracy did not improve. Moreover, test accuracy remaineded stable and marginally training accuracy improved."
      ]
    }
  ]
}
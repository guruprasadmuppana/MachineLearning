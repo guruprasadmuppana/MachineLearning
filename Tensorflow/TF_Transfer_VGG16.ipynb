{
  "nbformat": 4,
  "nbformat_minor": 0,
  "metadata": {
    "colab": {
      "name": "TF - Transfer VGG16.ipynb",
      "provenance": [],
      "collapsed_sections": []
    },
    "kernelspec": {
      "name": "python3",
      "display_name": "Python 3"
    },
    "accelerator": "GPU"
  },
  "cells": [
    {
      "cell_type": "markdown",
      "metadata": {
        "id": "YFfya-OtwIl0",
        "colab_type": "text"
      },
      "source": [
        "# Tranfer Model\n",
        "In this learning exercise, we will use VGG16 pretrained model.\n",
        "Objective of this program is train a new model with the support from pretained model to reduce the training time and accuracy.\n",
        "\n",
        "In this case, we will get the images on food and non-food.\n",
        "https://lazyprogrammer.me/course_files/Food-5K.zip\n",
        "\n",
        "Open questions:\n",
        "  Check out what categories are supported by VGG model ?\n",
        "  The new head ( a new model) can only support two classification.\n",
        "\n"
      ]
    },
    {
      "cell_type": "markdown",
      "metadata": {
        "id": "l12T4xeFAEzu",
        "colab_type": "text"
      },
      "source": [
        "**1. Make the data ready**\n",
        "\n",
        "Download the data file\n",
        "Check the directory struture.\n",
        "Create a new data structure with the following specification:\n",
        "  * data / training/test\n",
        "  * data / training/non-food and data / training/food\n",
        "  * data / validation/non-food and data / validation/food\n",
        "Set up ImageDataGenerator:\n",
        "*   train_gen\n",
        "*   test_gen\n",
        "\n",
        "provide all transformation for train_gen. for Test, we do not need\n",
        "config train_gen with flow_from_directory\n",
        "\n",
        "Use these generators into model fit_generator function"
      ]
    },
    {
      "cell_type": "code",
      "metadata": {
        "id": "4QAHZ1czIYIX",
        "colab_type": "code",
        "colab": {}
      },
      "source": [
        "# imports:\n",
        "import numpy as np\n",
        "import pandas as pd\n",
        "import matplotlib.pyplot as plt\n",
        "\n",
        "# basic tensorflow\n",
        "import tensorflow as tf\n"
      ],
      "execution_count": 0,
      "outputs": []
    },
    {
      "cell_type": "code",
      "metadata": {
        "id": "DmDsSYc8I7pf",
        "colab_type": "code",
        "outputId": "44954b7c-4751-424b-a11b-acc5a4e4f28d",
        "colab": {
          "base_uri": "https://localhost:8080/",
          "height": 34
        }
      },
      "source": [
        "# check TF verion.\n",
        "tf.__version__\n",
        "# if the above returns 1.x, run the following command to install tensorflow 2.0 GPU version.\n",
        "# And restart the runtime using menu.\n",
        "# import tensorflow and re-run this commmand\n",
        "#!pip install -q tensorflow-gpu==2.0"
      ],
      "execution_count": 0,
      "outputs": [
        {
          "output_type": "execute_result",
          "data": {
            "text/plain": [
              "'2.0.0'"
            ]
          },
          "metadata": {
            "tags": []
          },
          "execution_count": 3
        }
      ]
    },
    {
      "cell_type": "code",
      "metadata": {
        "id": "FcqF2ntbKvIp",
        "colab_type": "code",
        "colab": {}
      },
      "source": [
        "# preprocess \n",
        "from tensorflow.keras.preprocessing import preprocessing\n",
        "\n",
        "# model\n",
        "from tensorflow.keras.models import Model\n",
        "# layers\n",
        "from tensorflow.keras.layers import Input, Dense, Dropout, Activation, N\n",
        "\n",
        "# optimizers\n",
        "\n",
        "# applications like VGG\n",
        "\n",
        "# ImageDataGenerator"
      ],
      "execution_count": 0,
      "outputs": []
    },
    {
      "cell_type": "code",
      "metadata": {
        "id": "-YFZ9l1r_6s4",
        "colab_type": "code",
        "colab": {}
      },
      "source": [
        "# download the data (files)\n"
      ],
      "execution_count": 0,
      "outputs": []
    },
    {
      "cell_type": "markdown",
      "metadata": {
        "id": "ddyvpkaCB8pd",
        "colab_type": "text"
      },
      "source": [
        "**2. Build the model**\n",
        "\n",
        "1.Get the pretainedmodel using preprocessing on VGG\n",
        "Add the head such that output dimension is match with input for layer of the new model.\n",
        "Set up last layers with K dimention with Softmax function.\n",
        "\n",
        "2. Compile the model (adam, categorical_crossentropy, accuracy)\n",
        "\n",
        "3. Call model.fit-generator(train and test generators, epchos, batch_size)\n"
      ]
    },
    {
      "cell_type": "markdown",
      "metadata": {
        "id": "eH2TsoBUC435",
        "colab_type": "text"
      },
      "source": [
        "**3. Evaluate the model using the train data without data augmentation**"
      ]
    },
    {
      "cell_type": "markdown",
      "metadata": {
        "id": "SKnxr0CLDC4z",
        "colab_type": "text"
      },
      "source": [
        "Check why missclassification happen and what could be the reasons."
      ]
    }
  ]
}
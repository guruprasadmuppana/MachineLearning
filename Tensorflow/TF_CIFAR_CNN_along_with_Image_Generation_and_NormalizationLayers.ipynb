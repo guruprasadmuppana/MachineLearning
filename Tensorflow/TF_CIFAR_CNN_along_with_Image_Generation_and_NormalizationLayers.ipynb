{
  "nbformat": 4,
  "nbformat_minor": 0,
  "metadata": {
    "colab": {
      "name": "TF CIFAR -CNN along with Image Generation and NormalizationLayers.ipynb",
      "provenance": []
    },
    "kernelspec": {
      "name": "python3",
      "display_name": "Python 3"
    },
    "accelerator": "GPU"
  },
  "cells": [
    {
      "cell_type": "markdown",
      "metadata": {
        "id": "IOqusJoqL7WN",
        "colab_type": "text"
      },
      "source": [
        "**Image Classification using CNN on CIFAR image dataset.**\n",
        "We will use Image Generation to improve the accuracy.\n",
        "We will also use Normalization layers and dropout layers to improve overfitting. i.e improving the regularization.\n",
        "\n",
        "Run this using GPU since it has got a lot of data.\n"
      ]
    },
    {
      "cell_type": "code",
      "metadata": {
        "id": "jjsrOsDoMUJt",
        "colab_type": "code",
        "outputId": "03b47cba-a374-4256-af32-e0ef6cca6d13",
        "colab": {
          "base_uri": "https://localhost:8080/",
          "height": 102
        }
      },
      "source": [
        "!pip install -q tensorflow-gpu==2.0\n"
      ],
      "execution_count": 0,
      "outputs": [
        {
          "output_type": "stream",
          "text": [
            "\u001b[K     |████████████████████████████████| 380.8MB 45kB/s \n",
            "\u001b[K     |████████████████████████████████| 3.8MB 24.3MB/s \n",
            "\u001b[K     |████████████████████████████████| 450kB 57.6MB/s \n",
            "\u001b[31mERROR: tensorflow 1.15.0 has requirement tensorboard<1.16.0,>=1.15.0, but you'll have tensorboard 2.0.2 which is incompatible.\u001b[0m\n",
            "\u001b[31mERROR: tensorflow 1.15.0 has requirement tensorflow-estimator==1.15.1, but you'll have tensorflow-estimator 2.0.1 which is incompatible.\u001b[0m\n",
            "\u001b[?25h"
          ],
          "name": "stdout"
        }
      ]
    },
    {
      "cell_type": "markdown",
      "metadata": {
        "id": "9lxT2XlXfW79",
        "colab_type": "text"
      },
      "source": [
        "restart run time before executing the following code statement"
      ]
    },
    {
      "cell_type": "code",
      "metadata": {
        "id": "TJ2GicmYNIhP",
        "colab_type": "code",
        "outputId": "c7eb4c6f-6d94-4d3d-f294-fd84a5cafbd7",
        "colab": {
          "base_uri": "https://localhost:8080/",
          "height": 34
        }
      },
      "source": [
        "import tensorflow as tf\n",
        "print(tf.__version__)"
      ],
      "execution_count": 0,
      "outputs": [
        {
          "output_type": "stream",
          "text": [
            "2.0.0\n"
          ],
          "name": "stdout"
        }
      ]
    },
    {
      "cell_type": "markdown",
      "metadata": {
        "id": "xAUA5rjiNRiw",
        "colab_type": "text"
      },
      "source": [
        "Though pip command fails, when you restart and import tensorflow, it reflects 2.0"
      ]
    },
    {
      "cell_type": "code",
      "metadata": {
        "id": "I0Xe6_5TNeoZ",
        "colab_type": "code",
        "colab": {}
      },
      "source": [
        "import numpy as np\n",
        "import matplotlib.pyplot as plt\n",
        "from tensorflow.keras.layers import Input, Conv2D, Dense, Flatten, Dropout, GlobalMaxPooling2D, MaxPooling2D, BatchNormalization\n",
        "from tensorflow.keras.models import Model"
      ],
      "execution_count": 0,
      "outputs": []
    },
    {
      "cell_type": "code",
      "metadata": {
        "id": "AdP_U3CjNmHR",
        "colab_type": "code",
        "outputId": "ee4e5298-26b4-408e-c908-31dee0002440",
        "colab": {
          "base_uri": "https://localhost:8080/",
          "height": 85
        }
      },
      "source": [
        "cifar10 = tf.keras.datasets.cifar10\n",
        "\n",
        "(x_train, y_train), (x_test, y_test) = cifar10.load_data()\n",
        "x_train, x_test = x_train / 255.0, x_test / 255.0\n",
        "y_train, y_test = y_train.flatten(), y_test.flatten()\n",
        "print(\"x_train.shape:\", x_train.shape)\n",
        "print(\"y_train.shape\", y_train.shape)"
      ],
      "execution_count": 0,
      "outputs": [
        {
          "output_type": "stream",
          "text": [
            "Downloading data from https://www.cs.toronto.edu/~kriz/cifar-10-python.tar.gz\n",
            "170500096/170498071 [==============================] - 4s 0us/step\n",
            "x_train.shape: (50000, 32, 32, 3)\n",
            "y_train.shape (50000,)\n"
          ],
          "name": "stdout"
        }
      ]
    },
    {
      "cell_type": "code",
      "metadata": {
        "id": "SM9yK5w4fmrU",
        "colab_type": "code",
        "outputId": "b904d4d4-9921-4eac-b843-aada442d1572",
        "colab": {
          "base_uri": "https://localhost:8080/",
          "height": 34
        }
      },
      "source": [
        "!ls"
      ],
      "execution_count": 0,
      "outputs": [
        {
          "output_type": "stream",
          "text": [
            "sample_data\n"
          ],
          "name": "stdout"
        }
      ]
    },
    {
      "cell_type": "code",
      "metadata": {
        "id": "acgJv27rNrNw",
        "colab_type": "code",
        "outputId": "f25ce39b-89db-4109-be5f-cb7ba2048435",
        "colab": {
          "base_uri": "https://localhost:8080/",
          "height": 34
        }
      },
      "source": [
        "K = len(set(y_train))\n",
        "print(\"number of classes:\", K)"
      ],
      "execution_count": 0,
      "outputs": [
        {
          "output_type": "stream",
          "text": [
            "number of classes: 10\n"
          ],
          "name": "stdout"
        }
      ]
    },
    {
      "cell_type": "code",
      "metadata": {
        "id": "xEbIiq-DNvIi",
        "colab_type": "code",
        "colab": {}
      },
      "source": [
        "i = Input(shape=x_train[0].shape)\n",
        "# 32 filters\n",
        "x = Conv2D(32, (3, 3), activation='relu', padding='same')(i)\n",
        "x = BatchNormalization()(x)\n",
        "x = Conv2D(32, (3, 3), activation='relu', padding='same')(x)\n",
        "x = BatchNormalization()(x)\n",
        "x = MaxPooling2D((2, 2))(x)\n",
        "# 64 filters\n",
        "x = Conv2D(64, (3, 3), activation='relu', padding='same')(x)\n",
        "x = BatchNormalization()(x)\n",
        "x = Conv2D(64, (3, 3), activation='relu', padding='same')(x)\n",
        "x = BatchNormalization()(x)\n",
        "x = MaxPooling2D((2, 2))(x)\n",
        "# 128 filters\n",
        "x = Conv2D(128, (3, 3), activation='relu', padding='same')(x)\n",
        "x = BatchNormalization()(x)\n",
        "x = Conv2D(128, (3, 3), activation='relu', padding='same')(x)\n",
        "x = BatchNormalization()(x)\n",
        "x = MaxPooling2D((2, 2))(x)\n",
        "# classification\n",
        "x = Flatten()(x)\n",
        "x = Dropout(0.2)(x)\n",
        "x = Dense(1024, activation='relu')(x)\n",
        "x = Dropout(0.2)(x)\n",
        "x = Dense(K, activation='softmax')(x)\n",
        "\n",
        "model = Model(i, x)"
      ],
      "execution_count": 0,
      "outputs": []
    },
    {
      "cell_type": "code",
      "metadata": {
        "id": "EBTE-IHBOQq_",
        "colab_type": "code",
        "colab": {}
      },
      "source": [
        "model.compile(optimizer='adam',\n",
        "              loss='sparse_categorical_crossentropy',\n",
        "              metrics=['accuracy'])"
      ],
      "execution_count": 0,
      "outputs": []
    },
    {
      "cell_type": "code",
      "metadata": {
        "id": "0u6HRm_ZOWf0",
        "colab_type": "code",
        "outputId": "97cd353c-55f0-482d-906e-22c69851a8fd",
        "colab": {
          "base_uri": "https://localhost:8080/",
          "height": 1000
        }
      },
      "source": [
        "# train with 50 loops. Hence  use GPUs.\n",
        "r = model.fit(x_train, y_train, validation_data=(x_test, y_test), epochs=30)"
      ],
      "execution_count": 0,
      "outputs": [
        {
          "output_type": "stream",
          "text": [
            "Train on 50000 samples, validate on 10000 samples\n",
            "Epoch 1/30\n",
            "50000/50000 [==============================] - 18s 353us/sample - loss: 1.3149 - accuracy: 0.5493 - val_loss: 1.1817 - val_accuracy: 0.5926\n",
            "Epoch 2/30\n",
            "50000/50000 [==============================] - 11s 211us/sample - loss: 0.8395 - accuracy: 0.7101 - val_loss: 0.7509 - val_accuracy: 0.7412\n",
            "Epoch 3/30\n",
            "50000/50000 [==============================] - 11s 212us/sample - loss: 0.6876 - accuracy: 0.7647 - val_loss: 0.7666 - val_accuracy: 0.7418\n",
            "Epoch 4/30\n",
            "50000/50000 [==============================] - 10s 210us/sample - loss: 0.5813 - accuracy: 0.7998 - val_loss: 0.6684 - val_accuracy: 0.7741\n",
            "Epoch 5/30\n",
            "50000/50000 [==============================] - 11s 217us/sample - loss: 0.4995 - accuracy: 0.8290 - val_loss: 0.6317 - val_accuracy: 0.7973\n",
            "Epoch 6/30\n",
            "50000/50000 [==============================] - 11s 211us/sample - loss: 0.4133 - accuracy: 0.8581 - val_loss: 0.7299 - val_accuracy: 0.7796\n",
            "Epoch 7/30\n",
            "50000/50000 [==============================] - 10s 210us/sample - loss: 0.3559 - accuracy: 0.8781 - val_loss: 0.5922 - val_accuracy: 0.8099\n",
            "Epoch 8/30\n",
            "50000/50000 [==============================] - 11s 211us/sample - loss: 0.2963 - accuracy: 0.8974 - val_loss: 0.6914 - val_accuracy: 0.7976\n",
            "Epoch 9/30\n",
            "50000/50000 [==============================] - 11s 212us/sample - loss: 0.2561 - accuracy: 0.9118 - val_loss: 0.6405 - val_accuracy: 0.8204\n",
            "Epoch 10/30\n",
            "50000/50000 [==============================] - 10s 210us/sample - loss: 0.2229 - accuracy: 0.9241 - val_loss: 0.6714 - val_accuracy: 0.8201\n",
            "Epoch 11/30\n",
            "50000/50000 [==============================] - 11s 216us/sample - loss: 0.1953 - accuracy: 0.9329 - val_loss: 0.7365 - val_accuracy: 0.8223\n",
            "Epoch 12/30\n",
            "50000/50000 [==============================] - 10s 210us/sample - loss: 0.1742 - accuracy: 0.9406 - val_loss: 0.6897 - val_accuracy: 0.8274\n",
            "Epoch 13/30\n",
            "50000/50000 [==============================] - 11s 211us/sample - loss: 0.1580 - accuracy: 0.9465 - val_loss: 0.7141 - val_accuracy: 0.8186\n",
            "Epoch 14/30\n",
            "50000/50000 [==============================] - 11s 211us/sample - loss: 0.1446 - accuracy: 0.9504 - val_loss: 0.6478 - val_accuracy: 0.8300\n",
            "Epoch 15/30\n",
            "50000/50000 [==============================] - 11s 210us/sample - loss: 0.1344 - accuracy: 0.9551 - val_loss: 0.7449 - val_accuracy: 0.8250\n",
            "Epoch 16/30\n",
            "50000/50000 [==============================] - 11s 218us/sample - loss: 0.1250 - accuracy: 0.9580 - val_loss: 0.8341 - val_accuracy: 0.8201\n",
            "Epoch 17/30\n",
            "50000/50000 [==============================] - 10s 209us/sample - loss: 0.1165 - accuracy: 0.9614 - val_loss: 0.6957 - val_accuracy: 0.8331\n",
            "Epoch 18/30\n",
            "50000/50000 [==============================] - 10s 209us/sample - loss: 0.1038 - accuracy: 0.9646 - val_loss: 0.7386 - val_accuracy: 0.8265\n",
            "Epoch 19/30\n",
            "50000/50000 [==============================] - 11s 218us/sample - loss: 0.0986 - accuracy: 0.9680 - val_loss: 0.7679 - val_accuracy: 0.8287\n",
            "Epoch 20/30\n",
            "50000/50000 [==============================] - 10s 210us/sample - loss: 0.1028 - accuracy: 0.9659 - val_loss: 0.7160 - val_accuracy: 0.8301\n",
            "Epoch 21/30\n",
            "50000/50000 [==============================] - 10s 210us/sample - loss: 0.0902 - accuracy: 0.9701 - val_loss: 0.7385 - val_accuracy: 0.8338\n",
            "Epoch 22/30\n",
            "50000/50000 [==============================] - 11s 215us/sample - loss: 0.0869 - accuracy: 0.9713 - val_loss: 0.7279 - val_accuracy: 0.8332\n",
            "Epoch 23/30\n",
            "50000/50000 [==============================] - 10s 209us/sample - loss: 0.0819 - accuracy: 0.9723 - val_loss: 0.7931 - val_accuracy: 0.8202\n",
            "Epoch 24/30\n",
            "50000/50000 [==============================] - 11s 211us/sample - loss: 0.0794 - accuracy: 0.9733 - val_loss: 0.7749 - val_accuracy: 0.8292\n",
            "Epoch 25/30\n",
            "50000/50000 [==============================] - 10s 210us/sample - loss: 0.0782 - accuracy: 0.9742 - val_loss: 0.7410 - val_accuracy: 0.8292\n",
            "Epoch 26/30\n",
            "50000/50000 [==============================] - 11s 210us/sample - loss: 0.0713 - accuracy: 0.9766 - val_loss: 0.7985 - val_accuracy: 0.8327\n",
            "Epoch 27/30\n",
            "50000/50000 [==============================] - 11s 210us/sample - loss: 0.0688 - accuracy: 0.9767 - val_loss: 0.8374 - val_accuracy: 0.8313\n",
            "Epoch 28/30\n",
            "50000/50000 [==============================] - 11s 214us/sample - loss: 0.0678 - accuracy: 0.9779 - val_loss: 0.7333 - val_accuracy: 0.8375\n",
            "Epoch 29/30\n",
            "50000/50000 [==============================] - 10s 209us/sample - loss: 0.0638 - accuracy: 0.9789 - val_loss: 0.7772 - val_accuracy: 0.8430\n",
            "Epoch 30/30\n",
            "50000/50000 [==============================] - 11s 210us/sample - loss: 0.0632 - accuracy: 0.9797 - val_loss: 0.8170 - val_accuracy: 0.8415\n"
          ],
          "name": "stdout"
        }
      ]
    },
    {
      "cell_type": "markdown",
      "metadata": {
        "id": "xwkMUzyRPJwT",
        "colab_type": "text"
      },
      "source": [
        "**Visualize the losses**"
      ]
    },
    {
      "cell_type": "markdown",
      "metadata": {
        "id": "BeyFaVm8O1mQ",
        "colab_type": "text"
      },
      "source": [
        "Training along with Image Generation after first round of training using the existing data without any image generation.\n"
      ]
    },
    {
      "cell_type": "code",
      "metadata": {
        "id": "rBSkRjXEPYNP",
        "colab_type": "code",
        "outputId": "52810f1e-305f-481d-9f1d-b7e1ad781a13",
        "colab": {
          "base_uri": "https://localhost:8080/",
          "height": 282
        }
      },
      "source": [
        "import matplotlib.pyplot as plt\n",
        "plt.plot(r.history['loss'], label='loss')\n",
        "plt.plot(r.history['val_loss'], label='val_loss')\n",
        "plt.legend()"
      ],
      "execution_count": 0,
      "outputs": [
        {
          "output_type": "execute_result",
          "data": {
            "text/plain": [
              "<matplotlib.legend.Legend at 0x7ff1683d9748>"
            ]
          },
          "metadata": {
            "tags": []
          },
          "execution_count": 10
        },
        {
          "output_type": "display_data",
          "data": {
            "image/png": "[encoded data removed]",
            "text/plain": [
              "<Figure size 432x288 with 1 Axes>"
            ]
          },
          "metadata": {
            "tags": []
          }
        }
      ]
    },
    {
      "cell_type": "code",
      "metadata": {
        "id": "M7vd8vTCPbpJ",
        "colab_type": "code",
        "outputId": "3973d4e4-9810-429f-a9c5-fef8f5836576",
        "colab": {
          "base_uri": "https://localhost:8080/",
          "height": 286
        }
      },
      "source": [
        "plt.plot(r.history['accuracy'], label='acc')\n",
        "plt.plot(r.history['val_accuracy'], label='val_acc')\n",
        "plt.legend()"
      ],
      "execution_count": 0,
      "outputs": [
        {
          "output_type": "execute_result",
          "data": {
            "text/plain": [
              "<matplotlib.legend.Legend at 0x7efb587287b8>"
            ]
          },
          "metadata": {
            "tags": []
          },
          "execution_count": 10
        },
        {
          "output_type": "display_data",
          "data": {
            "image/png": "[encoded data removed]",
            "text/plain": [
              "<Figure size 432x288 with 1 Axes>"
            ]
          },
          "metadata": {
            "tags": []
          }
        }
      ]
    },
    {
      "cell_type": "code",
      "metadata": {
        "id": "Wi8alHS7Ow4s",
        "colab_type": "code",
        "outputId": "e8a4dad2-38c7-4c8b-9a4a-65fd032f5d9f",
        "colab": {
          "base_uri": "https://localhost:8080/",
          "height": 1000
        }
      },
      "source": [
        "batch_size = 32\n",
        "data_generator = tf.keras.preprocessing.image.ImageDataGenerator(\n",
        "    width_shift_range=0.1, \n",
        "    height_shift_range=0.1, \n",
        "    horizontal_flip=True)\n",
        "train_generator = data_generator.flow(x_train, y_train, batch_size)\n",
        "steps_per_epoch = x_train.shape[0] // batch_size\n",
        "r = model.fit_generator(\n",
        "    train_generator, \n",
        "    steps_per_epoch=steps_per_epoch, \n",
        "    validation_data=(x_test, y_test), \n",
        "    epochs=50)"
      ],
      "execution_count": 0,
      "outputs": [
        {
          "output_type": "stream",
          "text": [
            "Epoch 1/50\n",
            "1562/1562 [==============================] - 95s 61ms/step - loss: 0.5559 - accuracy: 0.8206 - val_loss: 0.5225 - val_accuracy: 0.8307\n",
            "Epoch 2/50\n",
            "1562/1562 [==============================] - 96s 61ms/step - loss: 0.4496 - accuracy: 0.8516 - val_loss: 0.4825 - val_accuracy: 0.8428\n",
            "Epoch 3/50\n",
            "1562/1562 [==============================] - 96s 62ms/step - loss: 0.4142 - accuracy: 0.8606 - val_loss: 0.4805 - val_accuracy: 0.8428\n",
            "Epoch 4/50\n",
            "1562/1562 [==============================] - 96s 61ms/step - loss: 0.3962 - accuracy: 0.8656 - val_loss: 0.4653 - val_accuracy: 0.8468\n",
            "Epoch 5/50\n",
            "1562/1562 [==============================] - 96s 62ms/step - loss: 0.3720 - accuracy: 0.8741 - val_loss: 0.4338 - val_accuracy: 0.8572\n",
            "Epoch 6/50\n",
            "1562/1562 [==============================] - 97s 62ms/step - loss: 0.3567 - accuracy: 0.8790 - val_loss: 0.4855 - val_accuracy: 0.8459\n",
            "Epoch 7/50\n",
            "1562/1562 [==============================] - 98s 62ms/step - loss: 0.3451 - accuracy: 0.8841 - val_loss: 0.4391 - val_accuracy: 0.8534\n",
            "Epoch 8/50\n",
            "1562/1562 [==============================] - 97s 62ms/step - loss: 0.3290 - accuracy: 0.8894 - val_loss: 0.4619 - val_accuracy: 0.8488\n",
            "Epoch 9/50\n",
            "1562/1562 [==============================] - 96s 61ms/step - loss: 0.3241 - accuracy: 0.8896 - val_loss: 0.4647 - val_accuracy: 0.8505\n",
            "Epoch 10/50\n",
            "1562/1562 [==============================] - 96s 62ms/step - loss: 0.3099 - accuracy: 0.8954 - val_loss: 0.4189 - val_accuracy: 0.8656\n",
            "Epoch 11/50\n",
            "1562/1562 [==============================] - 97s 62ms/step - loss: 0.3010 - accuracy: 0.8964 - val_loss: 0.4106 - val_accuracy: 0.8727\n",
            "Epoch 12/50\n",
            "1562/1562 [==============================] - 96s 62ms/step - loss: 0.2896 - accuracy: 0.9022 - val_loss: 0.4156 - val_accuracy: 0.8627\n",
            "Epoch 13/50\n",
            "1562/1562 [==============================] - 97s 62ms/step - loss: 0.2939 - accuracy: 0.8998 - val_loss: 0.4482 - val_accuracy: 0.8587\n",
            "Epoch 14/50\n",
            "1562/1562 [==============================] - 96s 62ms/step - loss: 0.2824 - accuracy: 0.9048 - val_loss: 0.4162 - val_accuracy: 0.8680\n",
            "Epoch 15/50\n",
            "1562/1562 [==============================] - 99s 64ms/step - loss: 0.2672 - accuracy: 0.9091 - val_loss: 0.4047 - val_accuracy: 0.8716\n",
            "Epoch 16/50\n",
            "1562/1562 [==============================] - 101s 64ms/step - loss: 0.2696 - accuracy: 0.9078 - val_loss: 0.4185 - val_accuracy: 0.8763\n",
            "Epoch 17/50\n",
            "1562/1562 [==============================] - 96s 62ms/step - loss: 0.2602 - accuracy: 0.9123 - val_loss: 0.4071 - val_accuracy: 0.8688\n",
            "Epoch 18/50\n",
            "1562/1562 [==============================] - 97s 62ms/step - loss: 0.2539 - accuracy: 0.9124 - val_loss: 0.4326 - val_accuracy: 0.8623\n",
            "Epoch 19/50\n",
            "1562/1562 [==============================] - 96s 62ms/step - loss: 0.2536 - accuracy: 0.9129 - val_loss: 0.4587 - val_accuracy: 0.8659\n",
            "Epoch 20/50\n",
            "1562/1562 [==============================] - 96s 61ms/step - loss: 0.2396 - accuracy: 0.9167 - val_loss: 0.4474 - val_accuracy: 0.8661\n",
            "Epoch 21/50\n",
            "1562/1562 [==============================] - 97s 62ms/step - loss: 0.2402 - accuracy: 0.9177 - val_loss: 0.4231 - val_accuracy: 0.8679\n",
            "Epoch 22/50\n",
            "1562/1562 [==============================] - 95s 61ms/step - loss: 0.2407 - accuracy: 0.9177 - val_loss: 0.3841 - val_accuracy: 0.8748\n",
            "Epoch 23/50\n",
            "1562/1562 [==============================] - 95s 61ms/step - loss: 0.2294 - accuracy: 0.9225 - val_loss: 0.3764 - val_accuracy: 0.8839\n",
            "Epoch 24/50\n",
            "1562/1562 [==============================] - 95s 61ms/step - loss: 0.2283 - accuracy: 0.9223 - val_loss: 0.4477 - val_accuracy: 0.8682\n",
            "Epoch 25/50\n",
            "1562/1562 [==============================] - 95s 61ms/step - loss: 0.2212 - accuracy: 0.9246 - val_loss: 0.4089 - val_accuracy: 0.8732\n",
            "Epoch 26/50\n",
            "1562/1562 [==============================] - 95s 61ms/step - loss: 0.2222 - accuracy: 0.9248 - val_loss: 0.4008 - val_accuracy: 0.8757\n",
            "Epoch 27/50\n",
            "1562/1562 [==============================] - 96s 61ms/step - loss: 0.2186 - accuracy: 0.9244 - val_loss: 0.4254 - val_accuracy: 0.8719\n",
            "Epoch 28/50\n",
            "1562/1562 [==============================] - 96s 61ms/step - loss: 0.2179 - accuracy: 0.9258 - val_loss: 0.3817 - val_accuracy: 0.8802\n",
            "Epoch 29/50\n",
            "1562/1562 [==============================] - 95s 61ms/step - loss: 0.2079 - accuracy: 0.9295 - val_loss: 0.3932 - val_accuracy: 0.8801\n",
            "Epoch 30/50\n",
            "1562/1562 [==============================] - 96s 62ms/step - loss: 0.2041 - accuracy: 0.9307 - val_loss: 0.4171 - val_accuracy: 0.8702\n",
            "Epoch 31/50\n",
            "1562/1562 [==============================] - 97s 62ms/step - loss: 0.2031 - accuracy: 0.9305 - val_loss: 0.4007 - val_accuracy: 0.8825\n",
            "Epoch 32/50\n",
            "1562/1562 [==============================] - 96s 61ms/step - loss: 0.2003 - accuracy: 0.9330 - val_loss: 0.3967 - val_accuracy: 0.8805\n",
            "Epoch 33/50\n",
            "1562/1562 [==============================] - 96s 62ms/step - loss: 0.2022 - accuracy: 0.9312 - val_loss: 0.4018 - val_accuracy: 0.8693\n",
            "Epoch 34/50\n",
            "1562/1562 [==============================] - 98s 62ms/step - loss: 0.1986 - accuracy: 0.9328 - val_loss: 0.4343 - val_accuracy: 0.8797\n",
            "Epoch 35/50\n",
            "1562/1562 [==============================] - 101s 65ms/step - loss: 0.1909 - accuracy: 0.9356 - val_loss: 0.4719 - val_accuracy: 0.8611\n",
            "Epoch 36/50\n",
            "1562/1562 [==============================] - 98s 63ms/step - loss: 0.1926 - accuracy: 0.9334 - val_loss: 0.4789 - val_accuracy: 0.8671\n",
            "Epoch 37/50\n",
            "1562/1562 [==============================] - 96s 61ms/step - loss: 0.1840 - accuracy: 0.9373 - val_loss: 0.3906 - val_accuracy: 0.8847\n",
            "Epoch 38/50\n",
            "1562/1562 [==============================] - 96s 62ms/step - loss: 0.1898 - accuracy: 0.9363 - val_loss: 0.4664 - val_accuracy: 0.8798\n",
            "Epoch 39/50\n",
            "1562/1562 [==============================] - 96s 61ms/step - loss: 0.1814 - accuracy: 0.9370 - val_loss: 0.4058 - val_accuracy: 0.8729\n",
            "Epoch 40/50\n",
            "1562/1562 [==============================] - 96s 61ms/step - loss: 0.1792 - accuracy: 0.9396 - val_loss: 0.4060 - val_accuracy: 0.8801\n",
            "Epoch 41/50\n",
            "1562/1562 [==============================] - 96s 62ms/step - loss: 0.1796 - accuracy: 0.9386 - val_loss: 0.4274 - val_accuracy: 0.8763\n",
            "Epoch 42/50\n",
            "1562/1562 [==============================] - 96s 61ms/step - loss: 0.1840 - accuracy: 0.9369 - val_loss: 0.4058 - val_accuracy: 0.8794\n",
            "Epoch 43/50\n",
            "1562/1562 [==============================] - 98s 63ms/step - loss: 0.1707 - accuracy: 0.9425 - val_loss: 0.3956 - val_accuracy: 0.8833\n",
            "Epoch 44/50\n",
            "1562/1562 [==============================] - 97s 62ms/step - loss: 0.1718 - accuracy: 0.9426 - val_loss: 0.4369 - val_accuracy: 0.8794\n",
            "Epoch 45/50\n",
            "1562/1562 [==============================] - 97s 62ms/step - loss: 0.1718 - accuracy: 0.9417 - val_loss: 0.4322 - val_accuracy: 0.8772\n",
            "Epoch 46/50\n",
            "1562/1562 [==============================] - 98s 63ms/step - loss: 0.1697 - accuracy: 0.9422 - val_loss: 0.4433 - val_accuracy: 0.8847\n",
            "Epoch 47/50\n",
            "1562/1562 [==============================] - 98s 62ms/step - loss: 0.1643 - accuracy: 0.9438 - val_loss: 0.4076 - val_accuracy: 0.8820\n",
            "Epoch 48/50\n",
            "1562/1562 [==============================] - 99s 63ms/step - loss: 0.1698 - accuracy: 0.9419 - val_loss: 0.4082 - val_accuracy: 0.8843\n",
            "Epoch 49/50\n",
            "1562/1562 [==============================] - 99s 64ms/step - loss: 0.1641 - accuracy: 0.9443 - val_loss: 0.4304 - val_accuracy: 0.8801\n",
            "Epoch 50/50\n",
            "1562/1562 [==============================] - 99s 64ms/step - loss: 0.1659 - accuracy: 0.9439 - val_loss: 0.4250 - val_accuracy: 0.8731\n"
          ],
          "name": "stdout"
        }
      ]
    },
    {
      "cell_type": "markdown",
      "metadata": {
        "id": "UU4kJXqCPo9U",
        "colab_type": "text"
      },
      "source": [
        "**#After Image generation augmentation**"
      ]
    },
    {
      "cell_type": "code",
      "metadata": {
        "id": "UcMT-0UgPh_H",
        "colab_type": "code",
        "outputId": "396a958d-2105-478b-c2ea-54ca7f5623da",
        "colab": {
          "base_uri": "https://localhost:8080/",
          "height": 282
        }
      },
      "source": [
        "#After Image generation augmentation\n",
        "plt.plot(r.history['loss'], label='loss')\n",
        "plt.plot(r.history['val_loss'], label='val_loss')\n",
        "plt.legend()"
      ],
      "execution_count": 0,
      "outputs": [
        {
          "output_type": "execute_result",
          "data": {
            "text/plain": [
              "<matplotlib.legend.Legend at 0x7ff167ecdfd0>"
            ]
          },
          "metadata": {
            "tags": []
          },
          "execution_count": 12
        },
        {
          "output_type": "display_data",
          "data": {
            "image/png": "[encoded data removed]",
            "text/plain": [
              "<Figure size 432x288 with 1 Axes>"
            ]
          },
          "metadata": {
            "tags": []
          }
        }
      ]
    },
    {
      "cell_type": "code",
      "metadata": {
        "id": "CtJl8ALMPs7y",
        "colab_type": "code",
        "outputId": "a9a75c83-c1a0-4216-c024-d997857895b7",
        "colab": {
          "base_uri": "https://localhost:8080/",
          "height": 282
        }
      },
      "source": [
        "plt.plot(r.history['accuracy'], label='acc')\n",
        "plt.plot(r.history['val_accuracy'], label='val_acc')\n",
        "plt.legend()"
      ],
      "execution_count": 0,
      "outputs": [
        {
          "output_type": "execute_result",
          "data": {
            "text/plain": [
              "<matplotlib.legend.Legend at 0x7ff167e5c7b8>"
            ]
          },
          "metadata": {
            "tags": []
          },
          "execution_count": 13
        },
        {
          "output_type": "display_data",
          "data": {
            "image/png": "[encoded data removed]",
            "text/plain": [
              "<Figure size 432x288 with 1 Axes>"
            ]
          },
          "metadata": {
            "tags": []
          }
        }
      ]
    },
    {
      "cell_type": "code",
      "metadata": {
        "id": "7JI7MNVzPz5K",
        "colab_type": "code",
        "outputId": "d644613e-8e66-4adc-82fe-89966dcafeba",
        "colab": {
          "base_uri": "https://localhost:8080/",
          "height": 498
        }
      },
      "source": [
        "from sklearn.metrics import confusion_matrix\n",
        "import itertools\n",
        "\n",
        "def plot_confusion_matrix(cm, classes,\n",
        "                          normalize=False,\n",
        "                          title='Confusion matrix',\n",
        "                          cmap=plt.cm.Blues):\n",
        "  \"\"\"\n",
        "  This function prints and plots the confusion matrix.\n",
        "  Normalization can be applied by setting `normalize=True`.\n",
        "  \"\"\"\n",
        "  if normalize:\n",
        "      cm = cm.astype('float') / cm.sum(axis=1)[:, np.newaxis]\n",
        "      print(\"Normalized confusion matrix\")\n",
        "  else:\n",
        "      print('Confusion matrix, without normalization')\n",
        "\n",
        "  print(cm)\n",
        "\n",
        "  plt.imshow(cm, interpolation='nearest', cmap=cmap)\n",
        "  plt.title(title)\n",
        "  plt.colorbar()\n",
        "  tick_marks = np.arange(len(classes))\n",
        "  plt.xticks(tick_marks, classes, rotation=45)\n",
        "  plt.yticks(tick_marks, classes)\n",
        "\n",
        "  fmt = '.2f' if normalize else 'd'\n",
        "  thresh = cm.max() / 2.\n",
        "  for i, j in itertools.product(range(cm.shape[0]), range(cm.shape[1])):\n",
        "      plt.text(j, i, format(cm[i, j], fmt),\n",
        "               horizontalalignment=\"center\",\n",
        "               color=\"white\" if cm[i, j] > thresh else \"black\")\n",
        "\n",
        "  plt.tight_layout()\n",
        "  plt.ylabel('True label')\n",
        "  plt.xlabel('Predicted label')\n",
        "  plt.show()\n",
        "\n",
        "\n",
        "p_test = model.predict(x_test).argmax(axis=1)\n",
        "cm = confusion_matrix(y_test, p_test)\n",
        "plot_confusion_matrix(cm, list(range(10)))\n",
        "\n"
      ],
      "execution_count": 0,
      "outputs": [
        {
          "output_type": "stream",
          "text": [
            "Confusion matrix, without normalization\n",
            "[[909  12  15  14   3   0   5   3  23  16]\n",
            " [  4 969   0   2   0   1   0   0   5  19]\n",
            " [ 44   1 787  38  32  20  58   6   6   8]\n",
            " [  8   3  26 786  27  54  60  12   8  16]\n",
            " [ 11   5  31  31 846  17  45  12   2   0]\n",
            " [  6   1  17 125  19 773  27  24   5   3]\n",
            " [  3   1  11  20   9   4 946   0   5   1]\n",
            " [ 10   4  12  20  24  16   6 902   1   5]\n",
            " [ 51  19   4   4   1   0   2   1 888  30]\n",
            " [ 10  55   0   4   1   0   1   1   3 925]]\n"
          ],
          "name": "stdout"
        },
        {
          "output_type": "display_data",
          "data": {
            "image/png": "[encoded data removed]",
            "text/plain": [
              "<Figure size 432x288 with 2 Axes>"
            ]
          },
          "metadata": {
            "tags": []
          }
        }
      ]
    },
    {
      "cell_type": "code",
      "metadata": {
        "id": "BxDKRRZgP5Kh",
        "colab_type": "code",
        "colab": {}
      },
      "source": [
        "labels = '''airplane\n",
        "automobile\n",
        "bird\n",
        "cat\n",
        "deer\n",
        "dog\n",
        "frog\n",
        "horse\n",
        "ship\n",
        "truck'''.split()"
      ],
      "execution_count": 0,
      "outputs": []
    },
    {
      "cell_type": "code",
      "metadata": {
        "id": "zkG29mtEP-I3",
        "colab_type": "code",
        "outputId": "47bd63c1-3f12-4c24-ca2f-afe9ea807460",
        "colab": {
          "base_uri": "https://localhost:8080/",
          "height": 281
        }
      },
      "source": [
        "misclassified_idx = np.where(p_test != y_test)[0]\n",
        "i = np.random.choice(misclassified_idx)\n",
        "plt.imshow(x_test[i], cmap='gray')\n",
        "plt.title(\"True label: %s Predicted: %s\" % (labels[y_test[i]], labels[p_test[i]]));"
      ],
      "execution_count": 0,
      "outputs": [
        {
          "output_type": "display_data",
          "data": {
            "image/png": "[encoded data removed]",
            "text/plain": [
              "<Figure size 432x288 with 1 Axes>"
            ]
          },
          "metadata": {
            "tags": []
          }
        }
      ]
    },
    {
      "cell_type": "markdown",
      "metadata": {
        "id": "oFBv8Wr_QDTj",
        "colab_type": "text"
      },
      "source": [
        "**Model Summary()**"
      ]
    },
    {
      "cell_type": "code",
      "metadata": {
        "id": "_YZSvKnWQBW_",
        "colab_type": "code",
        "outputId": "c6c6a94a-72f7-4e03-9040-110ae3e16b0e",
        "colab": {
          "base_uri": "https://localhost:8080/",
          "height": 867
        }
      },
      "source": [
        "model.summary()"
      ],
      "execution_count": 0,
      "outputs": [
        {
          "output_type": "stream",
          "text": [
            "Model: \"model\"\n",
            "_________________________________________________________________\n",
            "Layer (type)                 Output Shape              Param #   \n",
            "=================================================================\n",
            "input_1 (InputLayer)         [(None, 32, 32, 3)]       0         \n",
            "_________________________________________________________________\n",
            "conv2d (Conv2D)              (None, 32, 32, 32)        896       \n",
            "_________________________________________________________________\n",
            "batch_normalization (BatchNo (None, 32, 32, 32)        128       \n",
            "_________________________________________________________________\n",
            "conv2d_1 (Conv2D)            (None, 32, 32, 32)        9248      \n",
            "_________________________________________________________________\n",
            "batch_normalization_1 (Batch (None, 32, 32, 32)        128       \n",
            "_________________________________________________________________\n",
            "max_pooling2d (MaxPooling2D) (None, 16, 16, 32)        0         \n",
            "_________________________________________________________________\n",
            "conv2d_2 (Conv2D)            (None, 16, 16, 64)        18496     \n",
            "_________________________________________________________________\n",
            "batch_normalization_2 (Batch (None, 16, 16, 64)        256       \n",
            "_________________________________________________________________\n",
            "conv2d_3 (Conv2D)            (None, 16, 16, 64)        36928     \n",
            "_________________________________________________________________\n",
            "batch_normalization_3 (Batch (None, 16, 16, 64)        256       \n",
            "_________________________________________________________________\n",
            "max_pooling2d_1 (MaxPooling2 (None, 8, 8, 64)          0         \n",
            "_________________________________________________________________\n",
            "conv2d_4 (Conv2D)            (None, 8, 8, 128)         73856     \n",
            "_________________________________________________________________\n",
            "batch_normalization_4 (Batch (None, 8, 8, 128)         512       \n",
            "_________________________________________________________________\n",
            "conv2d_5 (Conv2D)            (None, 8, 8, 128)         147584    \n",
            "_________________________________________________________________\n",
            "batch_normalization_5 (Batch (None, 8, 8, 128)         512       \n",
            "_________________________________________________________________\n",
            "max_pooling2d_2 (MaxPooling2 (None, 4, 4, 128)         0         \n",
            "_________________________________________________________________\n",
            "flatten (Flatten)            (None, 2048)              0         \n",
            "_________________________________________________________________\n",
            "dropout (Dropout)            (None, 2048)              0         \n",
            "_________________________________________________________________\n",
            "dense (Dense)                (None, 1024)              2098176   \n",
            "_________________________________________________________________\n",
            "dropout_1 (Dropout)          (None, 1024)              0         \n",
            "_________________________________________________________________\n",
            "dense_1 (Dense)              (None, 10)                10250     \n",
            "=================================================================\n",
            "Total params: 2,397,226\n",
            "Trainable params: 2,396,330\n",
            "Non-trainable params: 896\n",
            "_________________________________________________________________\n"
          ],
          "name": "stdout"
        }
      ]
    },
    {
      "cell_type": "markdown",
      "metadata": {
        "id": "_y4QCa9_zNZ_",
        "colab_type": "text"
      },
      "source": [
        "Before Image Generation with multiple Pooling layers and Normization layers, \n",
        "we had : 97/84 for train/test accuracy\n",
        "however, with the image generations, we got \n",
        "94/87 for train/test \n",
        "there is marginal improvement in test accuracy but there is a drop in training set.\n",
        "The images are quite small. Hence the difference between one image to another low.\n",
        "For example, airoplains and birds may look similar when the images are small."
      ]
    }
  ]
}